{
  "cells": [
    {
      "metadata": {},
      "cell_type": "markdown",
      "source": "<div style=\"font-size: 20px\">\n1.\tBased on the first and second law, derive the Fundamental Property Equation (FPE) for pure component and explain what it means for a definition of the internal energy. What will change in this equation if it will be written for mixture of components?"
    },
    {
      "metadata": {},
      "cell_type": "markdown",
      "source": "<div style=\"font-size: 20px\">\n2. A thermodynamic property characterizing the phase state is shown in the figure below.\n\n    a.\tWhich thermodynamic property is show in the figure?\n    \n    b.\tWhat is changing between (a) to (d)? How is it changing?\n    \n    c.\tName each thermodynamic state related to each figure. \n    \n    d.\tExplain why this thermodynamic property is mostly used to describe phase behavior \n"
    },
    {
      "metadata": {},
      "cell_type": "markdown",
      "source": "<img style=\"float: left;\" src=\"Gibbs.jpg\" width=\"100%\">"
    },
    {
      "metadata": {},
      "cell_type": "markdown",
      "source": "<div style=\"font-size: 20px\">\nOne of the main applications of nonlinear least squares is nonlinear regression or curve fitting. That is by given pairs ${(t_i,y_i) i=1,...,n}$ estimate parameters $X$ defining a nonlinear function $\\varphi(t;X)$, assuming the model:\n\\begin{equation}\ny_i = \\varphi(t_i;X) + \\epsilon_i\n\\end{equation}\nwhere $\\epsilon_i$ is the measurement (observation) errors. In the least-squares estimation we search $X$ as the solution of the following optimization problem:\n\\begin{equation}\n\\frac{1}{2}\\sum_{i=1}^{n}(\\varphi(t_i;X) - y_i)^2\\rightarrow\\min_x\n\\end{equation}\nSuch formulation is intuitive and convinient from mathematical point of view. From the probabilistic point of view the least-squares solution is known to be the maximum likelihood estimate, provided that all $\\epsilon_i$ are independent and normally distributed random variables.\n\nSo theoretically it is not optimal when $\\epsilon_i$ have distribution other than normal. Although in engineering practice it is usally not important, i.e. if errors behave as some reasonable random variables with zero mean a result of least-squares estimation will be satisfactory."
    },
    {
      "metadata": {
        "collapsed": true
      },
      "cell_type": "markdown",
      "source": "<div style=\"font-size: 20px\">\n3. Please use the sublimation data we provide in the table to fit Antoine equation. In this exercise, a small noise is added in the data."
    },
    {
      "metadata": {
        "trusted": true
      },
      "cell_type": "code",
      "source": "# import numpy as np\n# import pandas as pd\n# import matplotlib.pyplot as plt\n# from scipy.optimize import least_squares\n\n# font = {'family': 'serif',\n#         'color':  'darkred',\n#         'weight': 'normal',\n#         'size': 16,\n#         }\n\n# # 1) sublimation curve, units in the table: T-Kelvin, P-mmHg\n# data_sub = ??\n\n# # 2) add a small perturbation \n# error = np.random.random((data_sub['T'].size,len(data_sub.dtypes)))\n# noise = 0.01\n# data = data_sub + noise * error\n\n# plt.figure(figsize=(15, 7))\n# plt.semilogy(data['T'],data['P'],'ro')\n# plt.semilogy(data_sub['T'],data_sub['P'],'b--')\n# plt.tick_params(labelsize=15)\n# plt.xlabel('Temperature(K)', fontdict=font)\n# plt.ylabel('Pressure(mmHg)', fontdict=font)\n# plt.legend(['Training data','Raw data'])\n# plt.show()",
      "execution_count": 3,
      "outputs": [
        {
          "output_type": "error",
          "ename": "SyntaxError",
          "evalue": "invalid syntax (<ipython-input-3-b2e6373bac91>, line 13)",
          "traceback": [
            "\u001b[0;36m  File \u001b[0;32m\"<ipython-input-3-b2e6373bac91>\"\u001b[0;36m, line \u001b[0;32m13\u001b[0m\n\u001b[0;31m    data_sub = ??\u001b[0m\n\u001b[0m               ^\u001b[0m\n\u001b[0;31mSyntaxError\u001b[0m\u001b[0;31m:\u001b[0m invalid syntax\n"
          ]
        }
      ]
    },
    {
      "metadata": {
        "trusted": true
      },
      "cell_type": "code",
      "source": "# # Define model parameters\n# T_min = -100          # celsius\n# T_max =   0           # celsius\n# T = np.linspace(T_min, T_max, 100)",
      "execution_count": null,
      "outputs": []
    },
    {
      "metadata": {
        "trusted": true
      },
      "cell_type": "code",
      "source": "# # Define the function computing residuals for least-squares minimization:\n# def fobj(C, T, P):\n#     return C[0] - C[1]/ (T + C[2] - 273.15) - np.log10(P)",
      "execution_count": null,
      "outputs": []
    },
    {
      "metadata": {
        "trusted": true
      },
      "cell_type": "code",
      "source": "# # Use all ones as the initial estimate.\n# C = np.ones(3)\n\n# # Run robust least squares with loss='soft_l1', set f_scale to 0.1 \n# # which means that inlier residuals are approximately lower than 0.1.\n# res_robust = least_squares(fobj, C, loss='soft_l1', f_scale=0.1, args=(data['T'], data['P']))\n\n# print('Antoine coefficients : A = %0.2f, B = %0.2f, C = %0.2f'%(res_robust.x[0],res_robust.x[1],res_robust.x[2]))",
      "execution_count": null,
      "outputs": []
    },
    {
      "metadata": {
        "trusted": true
      },
      "cell_type": "code",
      "source": "# # visualize your results\n# p_robust = 10**(res_robust.x[0] - res_robust.x[1]/(res_robust.x[2] + T))\n\n# plt.figure(figsize=(15, 8))\n# plt.semilogy(data['T'],data['P'],'ro', label = 'training data')\n# plt.semilogy(T + 273.15,p_robust,'b-', label = 'robust least square')\n# plt.tick_params(labelsize=15)\n# plt.xlabel('Temperature(K)', fontdict=font)\n# plt.ylabel('Pressure(mmHg)', fontdict=font)\n# plt.legend()\n# plt.show()",
      "execution_count": null,
      "outputs": []
    },
    {
      "metadata": {},
      "cell_type": "markdown",
      "source": "<img style=\"float: left;\" src=\"homework1.jpg\" width=\"100%\">"
    },
    {
      "metadata": {},
      "cell_type": "markdown",
      "source": "<img style=\"float: left;\" src=\"homework2.jpg\" width=\"100%\">"
    },
    {
      "metadata": {},
      "cell_type": "markdown",
      "source": "<img style=\"float: left;\" src=\"homework3.jpg\" width=\"100%\">"
    },
    {
      "metadata": {},
      "cell_type": "markdown",
      "source": "<img style=\"float: left;\" src=\"homework4.jpg\" width=\"100%\">"
    },
    {
      "metadata": {},
      "cell_type": "markdown",
      "source": "<img style=\"float: left;\" src=\"homework5.jpg\" width=\"100%\">"
    },
    {
      "metadata": {},
      "cell_type": "markdown",
      "source": "<div style=\"font-size: 20px\">\nNote: We assume ideal mixtures, which means $\\gamma_i$=$\\Phi_i$=1"
    },
    {
      "metadata": {
        "trusted": true
      },
      "cell_type": "code",
      "source": "import numpy as np\nC1 = np.array([13.96,2826.26,224.1])     # Antoine coefficients\nC2 = np.array([13.9926,3295.12,217.55])  # Antoine coefficients\nP = 90      # pressure\ny = np.linspace(0,1,100)   # composition range\nT1 = 10     # min T\nT2 = 200    # max T\ntol = 1e-7  # tolerance  ",
      "execution_count": 8,
      "outputs": []
    },
    {
      "metadata": {
        "trusted": true
      },
      "cell_type": "code",
      "source": "def obj(T, y):\n    return 1/P - y/(10**(C1[0] - C1[1]/(T + C1[2]))) - (1 - y)/(10**(C2[0] - C2[1]/(T + C2[2])))",
      "execution_count": 9,
      "outputs": []
    },
    {
      "metadata": {
        "trusted": true
      },
      "cell_type": "code",
      "source": "def bisection(a,b,y):\n    while (np.abs(a-b)>tol):\n        T = (a + b)/2\n        T_left = obj(a, y)\n        T_right = obj(b, y)\n        T_mid = obj(T, y)\n        if (T_left*T_mid<0):\n            b = T\n        else:\n            a = T\n    return T",
      "execution_count": 10,
      "outputs": []
    },
    {
      "metadata": {
        "trusted": true
      },
      "cell_type": "code",
      "source": "Tb = np.zeros(len(y))\nx = np.zeros(len(y))\nfor i in range (len(y)):\n    Tb[i] = bisection(T1,T2,y[i])\n    Psat = 10**(C1[0] - C1[1]/(Tb[i] + C1[2]))\n    x[i] = y[i] * P / Psat\n\nimport matplotlib.pyplot as plt\n\nplt.figure()\nplt.plot(y,Tb,'r--',x,Tb,'b--')\nplt.show()",
      "execution_count": 11,
      "outputs": [
        {
          "output_type": "display_data",
          "data": {
            "image/png": "[encoded data removed]",
            "text/plain": "<Figure size 432x288 with 1 Axes>"
          },
          "metadata": {
            "needs_background": "light"
          }
        }
      ]
    },
    {
      "metadata": {
        "trusted": true
      },
      "cell_type": "markdown",
      "source": ""
    }
  ],
  "metadata": {
    "kernelspec": {
      "name": "python36",
      "display_name": "Python 3.6",
      "language": "python"
    },
    "language_info": {
      "mimetype": "text/x-python",
      "nbconvert_exporter": "python",
      "name": "python",
      "pygments_lexer": "ipython3",
      "version": "3.6.6",
      "file_extension": ".py",
      "codemirror_mode": {
        "version": 3,
        "name": "ipython"
      }
    }
  },
  "nbformat": 4,
  "nbformat_minor": 2
}